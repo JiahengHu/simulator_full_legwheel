{
 "cells": [
  {
   "cell_type": "code",
   "execution_count": 1,
   "metadata": {},
   "outputs": [],
   "source": [
    "import numpy as np\n",
    "\n",
    "import robot_env_preload\n",
    "\n",
    "\n",
    "env = robot_env_preload.robot_env(show_GUI = True)\n",
    "env.reset_terrain() "
   ]
  },
  {
   "cell_type": "code",
   "execution_count": null,
   "metadata": {},
   "outputs": [],
   "source": [
    "for test in range(2):\n",
    "    for urdf_name in ['llllll', 'wllllw', 'llwwll', 'lnwwnl',\n",
    "                     'lnllnl', 'lwllwl', 'lwwwwl', 'wlwwlw', \n",
    "                       'wwllww', 'wwwwww', 'wnwwnw', 'wnllnw', ]:\n",
    "#     for urdf_name in ['llllll', 'wnwwnw', 'llwwll', 'lnwwnl']:\n",
    "        \n",
    "        env.reset_robot(urdf_name=urdf_name,preserve_states= True)\n",
    "        for i in range(50):\n",
    "            env.step(0.25*np.ones(env.num_joints)*np.sin(i/2))\n",
    "#         print(env.attachments)\n",
    "#         print(env.modules_types)\n",
    "\n",
    "\n",
    "        \n",
    "# env.reset_robot(urdf_name='llllll',preserve_states= True)\n",
    "# for i in range(20):\n",
    "#     env.step(0.25*np.ones(env.num_joints)*np.sin(i/2))\n",
    "# env.reset_robot(urdf_name='wnwwnw',preserve_states= True)\n"
   ]
  },
  {
   "cell_type": "code",
   "execution_count": null,
   "metadata": {},
   "outputs": [],
   "source": [
    "contact_points = env.p.getContactPoints(bodyA=env.robotID, \n",
    "                           physicsClientId=env.physicsClient)\n"
   ]
  },
  {
   "cell_type": "code",
   "execution_count": null,
   "metadata": {},
   "outputs": [],
   "source": [
    "contact_points"
   ]
  },
  {
   "cell_type": "code",
   "execution_count": null,
   "metadata": {},
   "outputs": [],
   "source": []
  }
 ],
 "metadata": {
  "kernelspec": {
   "display_name": "Python 3",
   "language": "python",
   "name": "python3"
  },
  "language_info": {
   "codemirror_mode": {
    "name": "ipython",
    "version": 3
   },
   "file_extension": ".py",
   "mimetype": "text/x-python",
   "name": "python",
   "nbconvert_exporter": "python",
   "pygments_lexer": "ipython3",
   "version": "3.7.6"
  }
 },
 "nbformat": 4,
 "nbformat_minor": 4
}
